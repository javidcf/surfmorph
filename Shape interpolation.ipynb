{
 "metadata": {
  "name": "",
  "signature": "sha256:2a4f4da87cd6bd8823a13cc02eb6b99b256b2b7b70044dbd204b569f44216a5c"
 },
 "nbformat": 3,
 "nbformat_minor": 0,
 "worksheets": [
  {
   "cells": [
    {
     "cell_type": "heading",
     "level": 1,
     "metadata": {},
     "source": [
      "Shape interpolation"
     ]
    },
    {
     "cell_type": "markdown",
     "metadata": {},
     "source": [
      "Load sympy"
     ]
    },
    {
     "cell_type": "code",
     "collapsed": false,
     "input": [
      "from sympy import *\n",
      "from __future__ import division, print_function, with_statement\n",
      "\n",
      "init_printing()"
     ],
     "language": "python",
     "metadata": {},
     "outputs": [],
     "prompt_number": 1
    },
    {
     "cell_type": "markdown",
     "metadata": {},
     "source": [
      "Initialize variables"
     ]
    },
    {
     "cell_type": "code",
     "collapsed": false,
     "input": [
      "p0 = Matrix(symbols('p0[0:3]', real=True))\n",
      "p1 = Matrix(symbols('p1[0:3]', real=True))\n",
      "p2 = Matrix(symbols('p2[0:3]', real=True))\n",
      "p3 = Matrix(symbols('p3[0:3]', real=True))\n",
      "\n",
      "q0 = Matrix(symbols('q0[0:3]', real=True))\n",
      "q1 = Matrix(symbols('q1[0:3]', real=True))\n",
      "q2 = Matrix(symbols('q2[0:3]', real=True))\n",
      "q3 = Matrix(symbols('q3[0:3]', real=True))\n",
      "\n",
      "u = Matrix(((p0 - p3).T, (p1 - p3).T, (p2 - p3).T)).T\n",
      "v = Matrix(((q0 - q3).T, (q1 - q3).T, (q2 - q3).T)).T\n",
      "\n",
      "uInv = Matrix((symbols('uInv[0][(0:3)]', real=True),\n",
      "               symbols('uInv[1][(0:3)]', real=True),\n",
      "               symbols('uInv[2][(0:3)]', real=True)))\n",
      "\n",
      "m = Matrix((symbols('m[0][(0:3)]', real=True),\n",
      "            symbols('m[1][(0:3)]', real=True),\n",
      "            symbols('m[2][(0:3)]', real=True)))\n",
      "t = Matrix(symbols('t[0:3]', real=True))\n",
      "\n",
      "Ai = symbols('Ai', real=True)\n",
      "alpha = symbols('alpha', real=True)"
     ],
     "language": "python",
     "metadata": {},
     "outputs": [],
     "prompt_number": 2
    },
    {
     "cell_type": "markdown",
     "metadata": {},
     "source": [
      "Error expression for 1 triangle"
     ]
    },
    {
     "cell_type": "code",
     "collapsed": false,
     "input": [
      "Ei = Ai * ((v * uInv - m).norm() ** 2 + alpha * ((q3 - v * uInv * p3) - t).norm() ** 2)"
     ],
     "language": "python",
     "metadata": {},
     "outputs": [],
     "prompt_number": 3
    },
    {
     "cell_type": "code",
     "collapsed": false,
     "input": [
      "Ei"
     ],
     "language": "python",
     "metadata": {},
     "outputs": [
      {
       "latex": [
        "$$Ai \\left(\\alpha \\left(\\left(p3[0] \\left(uInv[0][0] \\left(q0[0] - q3[0]\\right) + uInv[1][0] \\left(q1[0] - q3[0]\\right) + uInv[2][0] \\left(q2[0] - q3[0]\\right)\\right) + p3[1] \\left(uInv[0][1] \\left(q0[0] - q3[0]\\right) + uInv[1][1] \\left(q1[0] - q3[0]\\right) + uInv[2][1] \\left(q2[0] - q3[0]\\right)\\right) + p3[2] \\left(uInv[0][2] \\left(q0[0] - q3[0]\\right) + uInv[1][2] \\left(q1[0] - q3[0]\\right) + uInv[2][2] \\left(q2[0] - q3[0]\\right)\\right) - q3[0] + t[0]\\right)^{2} + \\left(p3[0] \\left(uInv[0][0] \\left(q0[1] - q3[1]\\right) + uInv[1][0] \\left(q1[1] - q3[1]\\right) + uInv[2][0] \\left(q2[1] - q3[1]\\right)\\right) + p3[1] \\left(uInv[0][1] \\left(q0[1] - q3[1]\\right) + uInv[1][1] \\left(q1[1] - q3[1]\\right) + uInv[2][1] \\left(q2[1] - q3[1]\\right)\\right) + p3[2] \\left(uInv[0][2] \\left(q0[1] - q3[1]\\right) + uInv[1][2] \\left(q1[1] - q3[1]\\right) + uInv[2][2] \\left(q2[1] - q3[1]\\right)\\right) - q3[1] + t[1]\\right)^{2} + \\left(p3[0] \\left(uInv[0][0] \\left(q0[2] - q3[2]\\right) + uInv[1][0] \\left(q1[2] - q3[2]\\right) + uInv[2][0] \\left(q2[2] - q3[2]\\right)\\right) + p3[1] \\left(uInv[0][1] \\left(q0[2] - q3[2]\\right) + uInv[1][1] \\left(q1[2] - q3[2]\\right) + uInv[2][1] \\left(q2[2] - q3[2]\\right)\\right) + p3[2] \\left(uInv[0][2] \\left(q0[2] - q3[2]\\right) + uInv[1][2] \\left(q1[2] - q3[2]\\right) + uInv[2][2] \\left(q2[2] - q3[2]\\right)\\right) - q3[2] + t[2]\\right)^{2}\\right) + \\left(- m[0][0] + uInv[0][0] \\left(q0[0] - q3[0]\\right) + uInv[1][0] \\left(q1[0] - q3[0]\\right) + uInv[2][0] \\left(q2[0] - q3[0]\\right)\\right)^{2} + \\left(- m[0][1] + uInv[0][1] \\left(q0[0] - q3[0]\\right) + uInv[1][1] \\left(q1[0] - q3[0]\\right) + uInv[2][1] \\left(q2[0] - q3[0]\\right)\\right)^{2} + \\left(- m[0][2] + uInv[0][2] \\left(q0[0] - q3[0]\\right) + uInv[1][2] \\left(q1[0] - q3[0]\\right) + uInv[2][2] \\left(q2[0] - q3[0]\\right)\\right)^{2} + \\left(- m[1][0] + uInv[0][0] \\left(q0[1] - q3[1]\\right) + uInv[1][0] \\left(q1[1] - q3[1]\\right) + uInv[2][0] \\left(q2[1] - q3[1]\\right)\\right)^{2} + \\left(- m[1][1] + uInv[0][1] \\left(q0[1] - q3[1]\\right) + uInv[1][1] \\left(q1[1] - q3[1]\\right) + uInv[2][1] \\left(q2[1] - q3[1]\\right)\\right)^{2} + \\left(- m[1][2] + uInv[0][2] \\left(q0[1] - q3[1]\\right) + uInv[1][2] \\left(q1[1] - q3[1]\\right) + uInv[2][2] \\left(q2[1] - q3[1]\\right)\\right)^{2} + \\left(- m[2][0] + uInv[0][0] \\left(q0[2] - q3[2]\\right) + uInv[1][0] \\left(q1[2] - q3[2]\\right) + uInv[2][0] \\left(q2[2] - q3[2]\\right)\\right)^{2} + \\left(- m[2][1] + uInv[0][1] \\left(q0[2] - q3[2]\\right) + uInv[1][1] \\left(q1[2] - q3[2]\\right) + uInv[2][1] \\left(q2[2] - q3[2]\\right)\\right)^{2} + \\left(- m[2][2] + uInv[0][2] \\left(q0[2] - q3[2]\\right) + uInv[1][2] \\left(q1[2] - q3[2]\\right) + uInv[2][2] \\left(q2[2] - q3[2]\\right)\\right)^{2}\\right)$$"
       ],
       "metadata": {},
       "output_type": "pyout",
       "png": "[encoded data removed]",
       "prompt_number": 4,
       "text": [
        "   \u239b  \u239b                                                                       \n",
        "Ai\u22c5\u239d\u03b1\u22c5\u239d(p3[0]\u22c5(uInv[0][0]\u22c5(q0[0] - q3[0]) + uInv[1][0]\u22c5(q1[0] - q3[0]) + uInv[\n",
        "\n",
        "                                                                              \n",
        "2][0]\u22c5(q2[0] - q3[0])) + p3[1]\u22c5(uInv[0][1]\u22c5(q0[0] - q3[0]) + uInv[1][1]\u22c5(q1[0]\n",
        "\n",
        "                                                                              \n",
        " - q3[0]) + uInv[2][1]\u22c5(q2[0] - q3[0])) + p3[2]\u22c5(uInv[0][2]\u22c5(q0[0] - q3[0]) + \n",
        "\n",
        "                                                                        2     \n",
        "uInv[1][2]\u22c5(q1[0] - q3[0]) + uInv[2][2]\u22c5(q2[0] - q3[0])) - q3[0] + t[0])  + (p\n",
        "\n",
        "                                                                              \n",
        "3[0]\u22c5(uInv[0][0]\u22c5(q0[1] - q3[1]) + uInv[1][0]\u22c5(q1[1] - q3[1]) + uInv[2][0]\u22c5(q2\n",
        "\n",
        "                                                                              \n",
        "[1] - q3[1])) + p3[1]\u22c5(uInv[0][1]\u22c5(q0[1] - q3[1]) + uInv[1][1]\u22c5(q1[1] - q3[1])\n",
        "\n",
        "                                                                              \n",
        " + uInv[2][1]\u22c5(q2[1] - q3[1])) + p3[2]\u22c5(uInv[0][2]\u22c5(q0[1] - q3[1]) + uInv[1][2\n",
        "\n",
        "                                                               2              \n",
        "]\u22c5(q1[1] - q3[1]) + uInv[2][2]\u22c5(q2[1] - q3[1])) - q3[1] + t[1])  + (p3[0]\u22c5(uIn\n",
        "\n",
        "                                                                              \n",
        "v[0][0]\u22c5(q0[2] - q3[2]) + uInv[1][0]\u22c5(q1[2] - q3[2]) + uInv[2][0]\u22c5(q2[2] - q3[\n",
        "\n",
        "                                                                              \n",
        "2])) + p3[1]\u22c5(uInv[0][1]\u22c5(q0[2] - q3[2]) + uInv[1][1]\u22c5(q1[2] - q3[2]) + uInv[2\n",
        "\n",
        "                                                                              \n",
        "][1]\u22c5(q2[2] - q3[2])) + p3[2]\u22c5(uInv[0][2]\u22c5(q0[2] - q3[2]) + uInv[1][2]\u22c5(q1[2] \n",
        "\n",
        "                                                      2\u239e                      \n",
        "- q3[2]) + uInv[2][2]\u22c5(q2[2] - q3[2])) - q3[2] + t[2]) \u23a0 + (-m[0][0] + uInv[0]\n",
        "\n",
        "                                                                              \n",
        "[0]\u22c5(q0[0] - q3[0]) + uInv[1][0]\u22c5(q1[0] - q3[0]) + uInv[2][0]\u22c5(q2[0] - q3[0]))\n",
        "\n",
        "2                                                                             \n",
        "  + (-m[0][1] + uInv[0][1]\u22c5(q0[0] - q3[0]) + uInv[1][1]\u22c5(q1[0] - q3[0]) + uInv\n",
        "\n",
        "                       2                                                      \n",
        "[2][1]\u22c5(q2[0] - q3[0]))  + (-m[0][2] + uInv[0][2]\u22c5(q0[0] - q3[0]) + uInv[1][2]\n",
        "\n",
        "                                              2                               \n",
        "\u22c5(q1[0] - q3[0]) + uInv[2][2]\u22c5(q2[0] - q3[0]))  + (-m[1][0] + uInv[0][0]\u22c5(q0[1\n",
        "\n",
        "                                                                     2        \n",
        "] - q3[1]) + uInv[1][0]\u22c5(q1[1] - q3[1]) + uInv[2][0]\u22c5(q2[1] - q3[1]))  + (-m[1\n",
        "\n",
        "                                                                              \n",
        "][1] + uInv[0][1]\u22c5(q0[1] - q3[1]) + uInv[1][1]\u22c5(q1[1] - q3[1]) + uInv[2][1]\u22c5(q\n",
        "\n",
        "              2                                                               \n",
        "2[1] - q3[1]))  + (-m[1][2] + uInv[0][2]\u22c5(q0[1] - q3[1]) + uInv[1][2]\u22c5(q1[1] -\n",
        "\n",
        "                                     2                                        \n",
        " q3[1]) + uInv[2][2]\u22c5(q2[1] - q3[1]))  + (-m[2][0] + uInv[0][0]\u22c5(q0[2] - q3[2]\n",
        "\n",
        "                                                            2                 \n",
        ") + uInv[1][0]\u22c5(q1[2] - q3[2]) + uInv[2][0]\u22c5(q2[2] - q3[2]))  + (-m[2][1] + uI\n",
        "\n",
        "                                                                              \n",
        "nv[0][1]\u22c5(q0[2] - q3[2]) + uInv[1][1]\u22c5(q1[2] - q3[2]) + uInv[2][1]\u22c5(q2[2] - q3\n",
        "\n",
        "     2                                                                        \n",
        "[2]))  + (-m[2][2] + uInv[0][2]\u22c5(q0[2] - q3[2]) + uInv[1][2]\u22c5(q1[2] - q3[2]) +\n",
        "\n",
        "                            2\u239e\n",
        " uInv[2][2]\u22c5(q2[2] - q3[2])) \u23a0"
       ]
      }
     ],
     "prompt_number": 4
    },
    {
     "cell_type": "markdown",
     "metadata": {},
     "source": [
      "Compute equations from partial derivatives (this takes a while...)"
     ]
    },
    {
     "cell_type": "code",
     "collapsed": false,
     "input": [
      "eqs = []\n",
      "q = [q0, q1, q2, q3]\n",
      "for qi in q:\n",
      "#for qi in [q0]:\n",
      "    for x in (0, 1, 2):\n",
      "    #for x in (0,):\n",
      "        qx = []\n",
      "        coeffs = {}\n",
      "        for qj in q:\n",
      "            qx.append(qj[x])\n",
      "            coeffs[qj[x]] = Integer(0)\n",
      "        Eid = Ei.diff(qi[x]).expand().collect(qx)\n",
      "        eqA = Matrix(map(lambda qjx: Eid.coeff(qjx).factor(), qx)).T\n",
      "        eqX = Matrix(qx)\n",
      "        eqB = Matrix([-Eid.as_independent(*qx)[0].factor()])\n",
      "        eqs.append((eqA, eqX, eqB))"
     ],
     "language": "python",
     "metadata": {},
     "outputs": [],
     "prompt_number": 5
    },
    {
     "cell_type": "code",
     "collapsed": false,
     "input": [
      "len(eqs)"
     ],
     "language": "python",
     "metadata": {},
     "outputs": [
      {
       "latex": [
        "$$12$$"
       ],
       "metadata": {},
       "output_type": "pyout",
       "png": "[encoded data removed]",
       "prompt_number": 6,
       "text": [
        "12"
       ]
      }
     ],
     "prompt_number": 6
    },
    {
     "cell_type": "markdown",
     "metadata": {},
     "source": [
      "Custom C code printer to avoid using pow with integers (took from [here](http://stackoverflow.com/a/33403251/1782792))"
     ]
    },
    {
     "cell_type": "code",
     "collapsed": false,
     "input": [
      "from sympy.utilities.codegen import CCodePrinter\n",
      "class MyCCodePrinter(CCodePrinter):\n",
      "    def _print_Pow(self, expr):\n",
      "        if expr.exp.is_integer and expr.exp.is_number:\n",
      "            return '(' + '*'.join([self._print(expr.base)]*expr.exp) + ')'\n",
      "        else:\n",
      "            return super(MyCCodePrinter, self)._print_Pow(expr)"
     ],
     "language": "python",
     "metadata": {},
     "outputs": [],
     "prompt_number": 8
    },
    {
     "cell_type": "markdown",
     "metadata": {},
     "source": [
      "Format as C code"
     ]
    },
    {
     "cell_type": "code",
     "collapsed": false,
     "input": [
      "import re\n",
      "cPrinter = MyCCodePrinter()\n",
      "varRe = re.compile(r'(\\w)\\s*(\\d+)\\s*\\[\\s*(\\d+)\\s*\\]')\n",
      "idx2Re = re.compile(r'\\[\\s*(\\d+)\\s*\\]\\s*\\[\\s*(\\d+)\\s*\\]')\n",
      "idx1Re = re.compile(r'\\[\\s*(\\d+)\\s*\\]')\n",
      "with open('include/surfmorph/surfmorph_codegen.h', 'w') as f:\n",
      "    f.write('\\n')\n",
      "    f.write('////////////////////////////////////////////////////////////////////////////////\\n')\n",
      "    f.write('// This code has been automatically generated with SymPy ///////////////////////\\n')\n",
      "    f.write('////////////////////////////////////////////////////////////////////////////////\\n')\n",
      "    f.write('\\n')\n",
      "    f.write('#ifndef SURFMORPH_CODEGEN_H\\n')\n",
      "    f.write('#define SURFMORPH_CODEGEN_H\\n')\n",
      "    f.write('\\n')\n",
      "    f.write('namespace surfmorph\\n')\n",
      "    f.write('{\\n')\n",
      "    f.write('\\n')\n",
      "    f.write('template<typename ScalarT,\\n')\n",
      "    f.write('         typename IdxT,\\n')\n",
      "    f.write('         typename PointT,\\n')\n",
      "    f.write('         typename VectorT,\\n')\n",
      "    f.write('         typename MatrixT,\\n')\n",
      "    f.write('         typename CoeffsT,\\n')\n",
      "    f.write('         typename IndepsT>\\n')\n",
      "    f.write('void updateInterpolationSystem\\n')\n",
      "    f.write('(\\n')\n",
      "    # Turns out only q3 is necessary as parameter\n",
      "    for qi in q[:-1]:\n",
      "        f.write('    const PointT &,\\n')\n",
      "    f.write('    const PointT &{0},\\n'.format(varRe.sub(r'p\\2', str(q[-1][0]))))\n",
      "    for qi in q:\n",
      "        f.write('    const IdxT {0},\\n'.format(varRe.sub(r'p\\2Idx', str(qi[0]))))\n",
      "    f.write('    const MatrixT &{0},\\n'.format(str(uInv[0]).split('[')[0]))\n",
      "    f.write('    const MatrixT &{0},\\n'.format(str(m[0]).split('[')[0]))\n",
      "    f.write('    const VectorT &{0},\\n'.format(str(t[0]).split('[')[0]))\n",
      "    f.write('    const ScalarT {0},\\n'.format(str(Ai)))\n",
      "    f.write('    const ScalarT {0},\\n'.format(str(alpha)))\n",
      "    f.write('    CoeffsT &coeffs,\\n')\n",
      "    f.write('    IndepsT &indeps\\n')\n",
      "    f.write(')\\n')\n",
      "    f.write('{\\n')\n",
      "    f.write('\\n')\n",
      "    f.write('    // Make sure coeff and indeps data is allocated\\n')\n",
      "    f.write('#ifdef SURFMORPH_PARALLELIZE_INTERPOLATION\\n')\n",
      "    f.write('#pragma omp single\\n')\n",
      "    f.write('#endif\\n')\n",
      "    f.write('    {\\n')\n",
      "    qVars = sum(map(list, q), [])\n",
      "    for i, (qi, eq) in enumerate(zip(qVars, eqs)):\n",
      "        eqName = varRe.sub(r'3 * p\\2Idx + \\3', str(qi))\n",
      "        for qj in eq[1]:\n",
      "            termName = varRe.sub(r'3 * p\\2Idx + \\3', str(qj))\n",
      "            f.write('        coeffs[{{{0}, {1}}}] = coeffs[{{{0}, {1}}}];\\n'.format(eqName, termName))\n",
      "        f.write('        indeps[{0}] = indeps[{0}];\\n'.format(eqName))\n",
      "    f.write('    }\\n')\n",
      "    f.write('\\n')\n",
      "    f.write('#ifdef SURFMORPH_PARALLELIZE_INTERPOLATION\\n')\n",
      "    f.write('#pragma omp sections\\n')\n",
      "    f.write('#endif\\n')\n",
      "    f.write('    {\\n\\n')\n",
      "    for i, (qi, eq) in enumerate(zip(qVars, eqs)):\n",
      "        eqName = varRe.sub(r'3 * p\\2Idx + \\3', str(qi))\n",
      "        f.write('#ifdef SURFMORPH_PARALLELIZE_INTERPOLATION\\n')\n",
      "        f.write('#pragma omp section\\n')\n",
      "        f.write('#endif\\n')\n",
      "        f.write('        {\\n')\n",
      "        f.write('            // Equation {0}\\n'.format(i + 1))\n",
      "        for qj, a in zip(eq[1], eq[0]):\n",
      "            termName = varRe.sub(r'3 * p\\2Idx + \\3', str(qj))\n",
      "            eqCode = cPrinter.doprint(a)\n",
      "            eqCode = idx2Re.sub(r'(\\1, \\2)', eqCode)\n",
      "            eqCode = idx1Re.sub(r'(\\1)', eqCode)\n",
      "            f.write('            coeffs[{{{0}, {1}}}] += {2};'.format(eqName, termName, eqCode))\n",
      "            f.write('\\n')\n",
      "        indepCode = cPrinter.doprint(eq[2][0])\n",
      "        indepCode = idx2Re.sub(r'(\\1, \\2)', indepCode)\n",
      "        indepCode = idx1Re.sub(r'(\\1)', indepCode)\n",
      "        f.write('            indeps[{0}] += {1};'.format(eqName, indepCode))\n",
      "        f.write('\\n')\n",
      "        f.write('        }\\n\\n')\n",
      "    f.write('    }\\n')\n",
      "    f.write('}\\n\\n')\n",
      "    f.write('}\\n\\n')\n",
      "    f.write('#endif\\n\\n')\n",
      "    f.write('////////////////////////////////////////////////////////////////////////////////\\n')"
     ],
     "language": "python",
     "metadata": {},
     "outputs": [],
     "prompt_number": 11
    },
    {
     "cell_type": "markdown",
     "metadata": {},
     "source": [
      "Save equations in Latex file"
     ]
    },
    {
     "cell_type": "code",
     "collapsed": true,
     "input": [
      "eqLatex = map(lambda eq: '\\\\begin{{equation*}}\\n{0}^T\\n{1}\\n=\\n{2}\\n\\\\end{{equation*}}\\n\\\\clearpage\\n'\\\n",
      "             .format(latex(eq[0].T), latex(eq[1]), latex(eq[2])), eqs)\n",
      "with open('eqs.tex', 'w') as f:\n",
      "    f.writelines(eqLatex)"
     ],
     "language": "python",
     "metadata": {},
     "outputs": [],
     "prompt_number": 7
    }
   ],
   "metadata": {}
  }
 ]
}